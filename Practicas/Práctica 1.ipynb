{
 "cells": [
  {
   "cell_type": "code",
   "execution_count": 1,
   "id": "9f1580d3",
   "metadata": {},
   "outputs": [],
   "source": [
    "import numpy as np\n",
    "import pandas as pd\n",
    "import yfinance as yf\n",
    "import seaborn as sns\n",
    "import matplotlib.pyplot as plt"
   ]
  },
  {
   "cell_type": "markdown",
   "id": "6d2f1910",
   "metadata": {},
   "source": [
    "## Ejercicio 1 [5.0 puntos]"
   ]
  },
  {
   "cell_type": "markdown",
   "id": "2b8c21c9",
   "metadata": {},
   "source": [
    "Dados los valores de los precios de tres activos en el fichero en la ruta `filepath`, analiza cuál sería el activo en el que invertirías y añade la justificación de la decisión."
   ]
  },
  {
   "cell_type": "code",
   "execution_count": 2,
   "id": "c1c62b21",
   "metadata": {},
   "outputs": [],
   "source": [
    "filepath = \"https://raw.githubusercontent.com/alfonso-santos/microcredencial-carteras-python-2023/main/datos_practicas/datos_ejercicio1.csv\"\n"
   ]
  },
  {
   "cell_type": "code",
   "execution_count": 7,
   "id": "f7e59d6f",
   "metadata": {},
   "outputs": [
    {
     "data": {
      "text/html": [
       "<div>\n",
       "<style scoped>\n",
       "    .dataframe tbody tr th:only-of-type {\n",
       "        vertical-align: middle;\n",
       "    }\n",
       "\n",
       "    .dataframe tbody tr th {\n",
       "        vertical-align: top;\n",
       "    }\n",
       "\n",
       "    .dataframe thead th {\n",
       "        text-align: right;\n",
       "    }\n",
       "</style>\n",
       "<table border=\"1\" class=\"dataframe\">\n",
       "  <thead>\n",
       "    <tr style=\"text-align: right;\">\n",
       "      <th></th>\n",
       "      <th>Activo 1</th>\n",
       "      <th>Activo 2</th>\n",
       "      <th>Activo 3</th>\n",
       "    </tr>\n",
       "  </thead>\n",
       "  <tbody>\n",
       "    <tr>\n",
       "      <th>0</th>\n",
       "      <td>1.007512</td>\n",
       "      <td>1.172625</td>\n",
       "      <td>0.935687</td>\n",
       "    </tr>\n",
       "    <tr>\n",
       "      <th>1</th>\n",
       "      <td>1.034282</td>\n",
       "      <td>1.045326</td>\n",
       "      <td>0.884819</td>\n",
       "    </tr>\n",
       "    <tr>\n",
       "      <th>2</th>\n",
       "      <td>1.097240</td>\n",
       "      <td>1.068054</td>\n",
       "      <td>0.933041</td>\n",
       "    </tr>\n",
       "    <tr>\n",
       "      <th>3</th>\n",
       "      <td>1.070608</td>\n",
       "      <td>0.978501</td>\n",
       "      <td>0.977994</td>\n",
       "    </tr>\n",
       "    <tr>\n",
       "      <th>4</th>\n",
       "      <td>1.133475</td>\n",
       "      <td>0.866147</td>\n",
       "      <td>0.939886</td>\n",
       "    </tr>\n",
       "  </tbody>\n",
       "</table>\n",
       "</div>"
      ],
      "text/plain": [
       "   Activo 1  Activo 2  Activo 3\n",
       "0  1.007512  1.172625  0.935687\n",
       "1  1.034282  1.045326  0.884819\n",
       "2  1.097240  1.068054  0.933041\n",
       "3  1.070608  0.978501  0.977994\n",
       "4  1.133475  0.866147  0.939886"
      ]
     },
     "execution_count": 7,
     "metadata": {},
     "output_type": "execute_result"
    }
   ],
   "source": [
    "precios = pd.read_csv(filepath, index_col=0)\n",
    "precios.head()"
   ]
  },
  {
   "cell_type": "code",
   "execution_count": 8,
   "id": "79c015a1",
   "metadata": {},
   "outputs": [
    {
     "data": {
      "text/html": [
       "<div>\n",
       "<style scoped>\n",
       "    .dataframe tbody tr th:only-of-type {\n",
       "        vertical-align: middle;\n",
       "    }\n",
       "\n",
       "    .dataframe tbody tr th {\n",
       "        vertical-align: top;\n",
       "    }\n",
       "\n",
       "    .dataframe thead th {\n",
       "        text-align: right;\n",
       "    }\n",
       "</style>\n",
       "<table border=\"1\" class=\"dataframe\">\n",
       "  <thead>\n",
       "    <tr style=\"text-align: right;\">\n",
       "      <th></th>\n",
       "      <th>Activo 1</th>\n",
       "      <th>Activo 2</th>\n",
       "      <th>Activo 3</th>\n",
       "    </tr>\n",
       "  </thead>\n",
       "  <tbody>\n",
       "    <tr>\n",
       "      <th>1</th>\n",
       "      <td>0.026224</td>\n",
       "      <td>-0.114917</td>\n",
       "      <td>-0.055898</td>\n",
       "    </tr>\n",
       "    <tr>\n",
       "      <th>2</th>\n",
       "      <td>0.059091</td>\n",
       "      <td>0.021510</td>\n",
       "      <td>0.053066</td>\n",
       "    </tr>\n",
       "    <tr>\n",
       "      <th>3</th>\n",
       "      <td>-0.024571</td>\n",
       "      <td>-0.087572</td>\n",
       "      <td>0.047055</td>\n",
       "    </tr>\n",
       "    <tr>\n",
       "      <th>4</th>\n",
       "      <td>0.057061</td>\n",
       "      <td>-0.121967</td>\n",
       "      <td>-0.039745</td>\n",
       "    </tr>\n",
       "    <tr>\n",
       "      <th>5</th>\n",
       "      <td>-0.004751</td>\n",
       "      <td>0.040719</td>\n",
       "      <td>-0.028798</td>\n",
       "    </tr>\n",
       "  </tbody>\n",
       "</table>\n",
       "</div>"
      ],
      "text/plain": [
       "   Activo 1  Activo 2  Activo 3\n",
       "1  0.026224 -0.114917 -0.055898\n",
       "2  0.059091  0.021510  0.053066\n",
       "3 -0.024571 -0.087572  0.047055\n",
       "4  0.057061 -0.121967 -0.039745\n",
       "5 -0.004751  0.040719 -0.028798"
      ]
     },
     "execution_count": 8,
     "metadata": {},
     "output_type": "execute_result"
    }
   ],
   "source": [
    "retornos1 = np.log(precios).diff().dropna()\n",
    "retornos1.head()"
   ]
  },
  {
   "cell_type": "markdown",
   "id": "566b7049",
   "metadata": {},
   "source": [
    "---"
   ]
  },
  {
   "cell_type": "code",
   "execution_count": 10,
   "id": "417b470f",
   "metadata": {},
   "outputs": [
    {
     "data": {
      "text/plain": [
       "Activo 1    0.250364\n",
       "Activo 2    0.212082\n",
       "Activo 3    0.269021\n",
       "dtype: float64"
      ]
     },
     "execution_count": 10,
     "metadata": {},
     "output_type": "execute_result"
    }
   ],
   "source": [
    "rets = retornos1.mean() * 252\n",
    "rets"
   ]
  },
  {
   "cell_type": "code",
   "execution_count": 12,
   "id": "d401cd8d",
   "metadata": {},
   "outputs": [
    {
     "data": {
      "text/plain": [
       "Activo 1    0.942591\n",
       "Activo 2    0.929752\n",
       "Activo 3    0.995969\n",
       "dtype: float64"
      ]
     },
     "execution_count": 12,
     "metadata": {},
     "output_type": "execute_result"
    }
   ],
   "source": [
    "vols = retornos1.std() * np.sqrt(252)\n",
    "vols"
   ]
  },
  {
   "cell_type": "code",
   "execution_count": 14,
   "id": "dae870fd",
   "metadata": {},
   "outputs": [
    {
     "data": {
      "text/plain": [
       "Activo 1   -0.845692\n",
       "Activo 2   -0.018823\n",
       "Activo 3    0.030535\n",
       "dtype: float64"
      ]
     },
     "execution_count": 14,
     "metadata": {},
     "output_type": "execute_result"
    }
   ],
   "source": [
    "skew = retornos1.skew()\n",
    "skew"
   ]
  },
  {
   "cell_type": "code",
   "execution_count": 15,
   "id": "ed4f5a7e",
   "metadata": {},
   "outputs": [
    {
     "data": {
      "text/plain": [
       "Activo 1    0.447310\n",
       "Activo 2   -0.004204\n",
       "Activo 3    1.022480\n",
       "dtype: float64"
      ]
     },
     "execution_count": 15,
     "metadata": {},
     "output_type": "execute_result"
    }
   ],
   "source": [
    "kurto = retornos1.kurt()\n",
    "kurto"
   ]
  },
  {
   "cell_type": "markdown",
   "id": "6761e91e",
   "metadata": {},
   "source": [
    "## Ejercicio 2 [5.0 puntos]"
   ]
  },
  {
   "cell_type": "markdown",
   "id": "a71f5709",
   "metadata": {},
   "source": [
    "Dada la siguiente lista de tickers de activos `[\"IEF\", \"AAPL\", \"BA\", \"JPM\", \"TGT\", \"F\"]`, descarga los precios de cierre ajustados diarios a partir del 1 de enero de 2020 y calcula la cartera formada por dos de los activos de forma que sea la de menor riesgo. Justifica la respuesta."
   ]
  },
  {
   "cell_type": "code",
   "execution_count": null,
   "id": "eb3c3482",
   "metadata": {},
   "outputs": [],
   "source": [
    "activos = ['IEF', 'AAPL', 'BA', 'JPM', 'TGT', 'F']\n"
   ]
  }
 ],
 "metadata": {
  "kernelspec": {
   "display_name": "Python 3 (ipykernel)",
   "language": "python",
   "name": "python3"
  },
  "language_info": {
   "codemirror_mode": {
    "name": "ipython",
    "version": 3
   },
   "file_extension": ".py",
   "mimetype": "text/x-python",
   "name": "python",
   "nbconvert_exporter": "python",
   "pygments_lexer": "ipython3",
   "version": "3.11.1"
  }
 },
 "nbformat": 4,
 "nbformat_minor": 5
}
