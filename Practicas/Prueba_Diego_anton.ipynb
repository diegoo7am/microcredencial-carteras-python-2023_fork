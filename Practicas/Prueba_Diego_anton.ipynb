{
  "cells": [
    {
      "cell_type": "markdown",
      "id": "c2cd187f",
      "metadata": {
        "id": "c2cd187f"
      },
      "source": [
        "# Microcredencial: Python aplicado a gestión de carteras"
      ]
    },
    {
      "cell_type": "markdown",
      "id": "92cad653",
      "metadata": {
        "id": "92cad653"
      },
      "source": [
        "# Prueba 1"
      ]
    },
    {
      "cell_type": "markdown",
      "id": "70247381",
      "metadata": {
        "id": "70247381"
      },
      "source": [
        "## Normativa del examen"
      ]
    },
    {
      "cell_type": "markdown",
      "id": "895dd3ec",
      "metadata": {
        "id": "895dd3ec"
      },
      "source": [
        "**OBSERVACION GLOBAL**\n",
        "\n",
        "En caso de proponer alguna cartera, recuerda filtrar los pesos para eliminar aquellos que estén por debajo de $10^{-4}$.\n",
        "\n",
        "En el proceso de optimización con CVXPY no se permiten posiciones cortas."
      ]
    },
    {
      "cell_type": "code",
      "execution_count": 1,
      "id": "VuWlinUbGnFP",
      "metadata": {
        "id": "VuWlinUbGnFP"
      },
      "outputs": [],
      "source": [
        "import numpy as np\n",
        "import pandas as pd\n",
        "import matplotlib.pyplot as plt\n",
        "import cvxpy as cp\n",
        "import yfinance as yf"
      ]
    },
    {
      "cell_type": "markdown",
      "id": "410835c4",
      "metadata": {
        "id": "410835c4"
      },
      "source": [
        "---"
      ]
    },
    {
      "cell_type": "markdown",
      "id": "96ff2b2e",
      "metadata": {
        "id": "96ff2b2e"
      },
      "source": [
        "## Ejercicio 1 [4 puntos]"
      ]
    },
    {
      "cell_type": "markdown",
      "id": "6bca19af",
      "metadata": {
        "id": "6bca19af"
      },
      "source": [
        "El Sr. Pikachu ha recibido una recomendación de cartera por parte del profesor Oak, la cual se encuentra registrada en el archivo `datos_prueba1.csv`. Sin embargo, el Sr. Pikachu te ha pedido una segunda opinión como experto en gestión de carteras. Si el profesor Oak ha estimado correctamente el riesgo que Pikachu está dispuesto a asumir, ¿confirmarías que es la cartera adecuada? Si no es el caso, proporciona los pesos, la rentabilidad y la volatilidad de tu propuesta."
      ]
    },
    {
      "cell_type": "code",
      "execution_count": 2,
      "id": "83ad5961",
      "metadata": {
        "id": "83ad5961"
      },
      "outputs": [],
      "source": [
        "file_path = 'https://raw.githubusercontent.com/alfonso-santos/microcredencial-carteras-python-2023/main/datos_practicas/datos_prueba1.csv'"
      ]
    },
    {
      "cell_type": "code",
      "execution_count": 3,
      "id": "461b0912",
      "metadata": {
        "colab": {
          "base_uri": "https://localhost:8080/",
          "height": 206
        },
        "id": "461b0912",
        "outputId": "4c6aa23e-2241-43d4-d83a-1d0f4695c42d"
      },
      "outputs": [
        {
          "data": {
            "text/html": [
              "<div>\n",
              "<style scoped>\n",
              "    .dataframe tbody tr th:only-of-type {\n",
              "        vertical-align: middle;\n",
              "    }\n",
              "\n",
              "    .dataframe tbody tr th {\n",
              "        vertical-align: top;\n",
              "    }\n",
              "\n",
              "    .dataframe thead th {\n",
              "        text-align: right;\n",
              "    }\n",
              "</style>\n",
              "<table border=\"1\" class=\"dataframe\">\n",
              "  <thead>\n",
              "    <tr style=\"text-align: right;\">\n",
              "      <th></th>\n",
              "      <th>Tickers</th>\n",
              "      <th>Pesos</th>\n",
              "    </tr>\n",
              "  </thead>\n",
              "  <tbody>\n",
              "    <tr>\n",
              "      <th>0</th>\n",
              "      <td>COP</td>\n",
              "      <td>0.017518</td>\n",
              "    </tr>\n",
              "    <tr>\n",
              "      <th>1</th>\n",
              "      <td>DRI</td>\n",
              "      <td>0.019341</td>\n",
              "    </tr>\n",
              "    <tr>\n",
              "      <th>2</th>\n",
              "      <td>SNPS</td>\n",
              "      <td>0.018392</td>\n",
              "    </tr>\n",
              "    <tr>\n",
              "      <th>3</th>\n",
              "      <td>CL</td>\n",
              "      <td>0.017118</td>\n",
              "    </tr>\n",
              "    <tr>\n",
              "      <th>4</th>\n",
              "      <td>HAS</td>\n",
              "      <td>0.025742</td>\n",
              "    </tr>\n",
              "  </tbody>\n",
              "</table>\n",
              "</div>"
            ],
            "text/plain": [
              "  Tickers     Pesos\n",
              "0     COP  0.017518\n",
              "1     DRI  0.019341\n",
              "2    SNPS  0.018392\n",
              "3      CL  0.017118\n",
              "4     HAS  0.025742"
            ]
          },
          "execution_count": 3,
          "metadata": {},
          "output_type": "execute_result"
        }
      ],
      "source": [
        "datos_df = pd.read_csv(file_path, index_col=0)\n",
        "datos_df.head()\n"
      ]
    },
    {
      "cell_type": "code",
      "execution_count": 4,
      "id": "QCQwC3SXHMTA",
      "metadata": {
        "id": "QCQwC3SXHMTA"
      },
      "outputs": [],
      "source": [
        "tickers = list(datos_df['Tickers'])\n",
        "pesos_cartera = np.array(datos_df['Pesos'])\n",
        "start_date = '2020-01-01'"
      ]
    },
    {
      "cell_type": "code",
      "execution_count": 5,
      "id": "dmBksYPHHm1Q",
      "metadata": {
        "colab": {
          "base_uri": "https://localhost:8080/",
          "height": 342
        },
        "id": "dmBksYPHHm1Q",
        "outputId": "f227c256-9002-4a7a-c70e-b78485374e8f"
      },
      "outputs": [
        {
          "name": "stderr",
          "output_type": "stream",
          "text": [
            "[*********************100%%**********************]  20 of 20 completed\n"
          ]
        },
        {
          "data": {
            "text/html": [
              "<div>\n",
              "<style scoped>\n",
              "    .dataframe tbody tr th:only-of-type {\n",
              "        vertical-align: middle;\n",
              "    }\n",
              "\n",
              "    .dataframe tbody tr th {\n",
              "        vertical-align: top;\n",
              "    }\n",
              "\n",
              "    .dataframe thead th {\n",
              "        text-align: right;\n",
              "    }\n",
              "</style>\n",
              "<table border=\"1\" class=\"dataframe\">\n",
              "  <thead>\n",
              "    <tr style=\"text-align: right;\">\n",
              "      <th>Ticker</th>\n",
              "      <th>APA</th>\n",
              "      <th>CBOE</th>\n",
              "      <th>CL</th>\n",
              "      <th>CMS</th>\n",
              "      <th>COP</th>\n",
              "      <th>DG</th>\n",
              "      <th>DRI</th>\n",
              "      <th>EXPE</th>\n",
              "      <th>F</th>\n",
              "      <th>HAS</th>\n",
              "      <th>HCA</th>\n",
              "      <th>HSY</th>\n",
              "      <th>KLAC</th>\n",
              "      <th>MAS</th>\n",
              "      <th>MDT</th>\n",
              "      <th>SNPS</th>\n",
              "      <th>VFC</th>\n",
              "      <th>WM</th>\n",
              "      <th>WST</th>\n",
              "      <th>XOM</th>\n",
              "    </tr>\n",
              "    <tr>\n",
              "      <th>Date</th>\n",
              "      <th></th>\n",
              "      <th></th>\n",
              "      <th></th>\n",
              "      <th></th>\n",
              "      <th></th>\n",
              "      <th></th>\n",
              "      <th></th>\n",
              "      <th></th>\n",
              "      <th></th>\n",
              "      <th></th>\n",
              "      <th></th>\n",
              "      <th></th>\n",
              "      <th></th>\n",
              "      <th></th>\n",
              "      <th></th>\n",
              "      <th></th>\n",
              "      <th></th>\n",
              "      <th></th>\n",
              "      <th></th>\n",
              "      <th></th>\n",
              "    </tr>\n",
              "  </thead>\n",
              "  <tbody>\n",
              "    <tr>\n",
              "      <th>2020-01-02</th>\n",
              "      <td>23.632689</td>\n",
              "      <td>112.306107</td>\n",
              "      <td>61.546371</td>\n",
              "      <td>54.405338</td>\n",
              "      <td>55.509178</td>\n",
              "      <td>149.984085</td>\n",
              "      <td>100.416939</td>\n",
              "      <td>110.569191</td>\n",
              "      <td>7.864790</td>\n",
              "      <td>89.668938</td>\n",
              "      <td>142.326996</td>\n",
              "      <td>132.027100</td>\n",
              "      <td>172.514542</td>\n",
              "      <td>44.931297</td>\n",
              "      <td>101.951073</td>\n",
              "      <td>142.869995</td>\n",
              "      <td>85.763031</td>\n",
              "      <td>106.264542</td>\n",
              "      <td>150.167023</td>\n",
              "      <td>56.999115</td>\n",
              "    </tr>\n",
              "    <tr>\n",
              "      <th>2020-01-03</th>\n",
              "      <td>23.940210</td>\n",
              "      <td>114.006836</td>\n",
              "      <td>61.456036</td>\n",
              "      <td>54.934311</td>\n",
              "      <td>55.712696</td>\n",
              "      <td>148.882263</td>\n",
              "      <td>100.524292</td>\n",
              "      <td>108.726028</td>\n",
              "      <td>7.689461</td>\n",
              "      <td>89.430573</td>\n",
              "      <td>142.761261</td>\n",
              "      <td>133.219299</td>\n",
              "      <td>169.216782</td>\n",
              "      <td>44.586887</td>\n",
              "      <td>101.345917</td>\n",
              "      <td>141.759995</td>\n",
              "      <td>85.223976</td>\n",
              "      <td>107.297226</td>\n",
              "      <td>150.562866</td>\n",
              "      <td>56.540867</td>\n",
              "    </tr>\n",
              "    <tr>\n",
              "      <th>2020-01-06</th>\n",
              "      <td>23.893608</td>\n",
              "      <td>112.935677</td>\n",
              "      <td>61.880665</td>\n",
              "      <td>55.181175</td>\n",
              "      <td>56.374130</td>\n",
              "      <td>148.373383</td>\n",
              "      <td>101.186234</td>\n",
              "      <td>108.337479</td>\n",
              "      <td>7.647715</td>\n",
              "      <td>89.694489</td>\n",
              "      <td>143.301605</td>\n",
              "      <td>132.586502</td>\n",
              "      <td>165.408752</td>\n",
              "      <td>44.242477</td>\n",
              "      <td>102.244751</td>\n",
              "      <td>141.979996</td>\n",
              "      <td>84.890251</td>\n",
              "      <td>107.855431</td>\n",
              "      <td>150.642059</td>\n",
              "      <td>56.974998</td>\n",
              "    </tr>\n",
              "    <tr>\n",
              "      <th>2020-01-07</th>\n",
              "      <td>30.295685</td>\n",
              "      <td>111.084557</td>\n",
              "      <td>61.031384</td>\n",
              "      <td>54.899052</td>\n",
              "      <td>56.374130</td>\n",
              "      <td>146.136368</td>\n",
              "      <td>100.318558</td>\n",
              "      <td>109.612740</td>\n",
              "      <td>7.722856</td>\n",
              "      <td>88.017387</td>\n",
              "      <td>143.108627</td>\n",
              "      <td>132.843323</td>\n",
              "      <td>166.722183</td>\n",
              "      <td>43.823601</td>\n",
              "      <td>101.888786</td>\n",
              "      <td>142.960007</td>\n",
              "      <td>84.470978</td>\n",
              "      <td>107.929863</td>\n",
              "      <td>150.256073</td>\n",
              "      <td>56.508694</td>\n",
              "    </tr>\n",
              "    <tr>\n",
              "      <th>2020-01-08</th>\n",
              "      <td>30.500702</td>\n",
              "      <td>109.947594</td>\n",
              "      <td>62.585400</td>\n",
              "      <td>54.881416</td>\n",
              "      <td>55.068226</td>\n",
              "      <td>145.502701</td>\n",
              "      <td>101.839195</td>\n",
              "      <td>108.217926</td>\n",
              "      <td>7.722856</td>\n",
              "      <td>89.345436</td>\n",
              "      <td>144.054291</td>\n",
              "      <td>133.934647</td>\n",
              "      <td>166.939514</td>\n",
              "      <td>44.177326</td>\n",
              "      <td>103.677544</td>\n",
              "      <td>145.860001</td>\n",
              "      <td>83.033463</td>\n",
              "      <td>107.994980</td>\n",
              "      <td>148.227341</td>\n",
              "      <td>55.656532</td>\n",
              "    </tr>\n",
              "  </tbody>\n",
              "</table>\n",
              "</div>"
            ],
            "text/plain": [
              "Ticker            APA        CBOE         CL        CMS        COP  \\\n",
              "Date                                                                 \n",
              "2020-01-02  23.632689  112.306107  61.546371  54.405338  55.509178   \n",
              "2020-01-03  23.940210  114.006836  61.456036  54.934311  55.712696   \n",
              "2020-01-06  23.893608  112.935677  61.880665  55.181175  56.374130   \n",
              "2020-01-07  30.295685  111.084557  61.031384  54.899052  56.374130   \n",
              "2020-01-08  30.500702  109.947594  62.585400  54.881416  55.068226   \n",
              "\n",
              "Ticker              DG         DRI        EXPE         F        HAS  \\\n",
              "Date                                                                  \n",
              "2020-01-02  149.984085  100.416939  110.569191  7.864790  89.668938   \n",
              "2020-01-03  148.882263  100.524292  108.726028  7.689461  89.430573   \n",
              "2020-01-06  148.373383  101.186234  108.337479  7.647715  89.694489   \n",
              "2020-01-07  146.136368  100.318558  109.612740  7.722856  88.017387   \n",
              "2020-01-08  145.502701  101.839195  108.217926  7.722856  89.345436   \n",
              "\n",
              "Ticker             HCA         HSY        KLAC        MAS         MDT  \\\n",
              "Date                                                                    \n",
              "2020-01-02  142.326996  132.027100  172.514542  44.931297  101.951073   \n",
              "2020-01-03  142.761261  133.219299  169.216782  44.586887  101.345917   \n",
              "2020-01-06  143.301605  132.586502  165.408752  44.242477  102.244751   \n",
              "2020-01-07  143.108627  132.843323  166.722183  43.823601  101.888786   \n",
              "2020-01-08  144.054291  133.934647  166.939514  44.177326  103.677544   \n",
              "\n",
              "Ticker            SNPS        VFC          WM         WST        XOM  \n",
              "Date                                                                  \n",
              "2020-01-02  142.869995  85.763031  106.264542  150.167023  56.999115  \n",
              "2020-01-03  141.759995  85.223976  107.297226  150.562866  56.540867  \n",
              "2020-01-06  141.979996  84.890251  107.855431  150.642059  56.974998  \n",
              "2020-01-07  142.960007  84.470978  107.929863  150.256073  56.508694  \n",
              "2020-01-08  145.860001  83.033463  107.994980  148.227341  55.656532  "
            ]
          },
          "execution_count": 5,
          "metadata": {},
          "output_type": "execute_result"
        }
      ],
      "source": [
        "precios = yf.download(tickers,\n",
        "                      start=start_date)['Adj Close']\n",
        "precios.head()"
      ]
    },
    {
      "cell_type": "code",
      "execution_count": 6,
      "id": "eJ1heNW9IM_v",
      "metadata": {
        "colab": {
          "base_uri": "https://localhost:8080/"
        },
        "id": "eJ1heNW9IM_v",
        "outputId": "36fe2b7c-86e6-4d19-9a04-b81f04979ad1"
      },
      "outputs": [
        {
          "data": {
            "text/plain": [
              "(1062, 20)"
            ]
          },
          "execution_count": 6,
          "metadata": {},
          "output_type": "execute_result"
        }
      ],
      "source": [
        "precios.shape"
      ]
    },
    {
      "cell_type": "code",
      "execution_count": 7,
      "id": "KqLD8t8lIPtG",
      "metadata": {
        "colab": {
          "base_uri": "https://localhost:8080/",
          "height": 238
        },
        "id": "KqLD8t8lIPtG",
        "outputId": "26224e6d-1025-4323-db7d-eb3397093d87"
      },
      "outputs": [
        {
          "data": {
            "text/html": [
              "<div>\n",
              "<style scoped>\n",
              "    .dataframe tbody tr th:only-of-type {\n",
              "        vertical-align: middle;\n",
              "    }\n",
              "\n",
              "    .dataframe tbody tr th {\n",
              "        vertical-align: top;\n",
              "    }\n",
              "\n",
              "    .dataframe thead th {\n",
              "        text-align: right;\n",
              "    }\n",
              "</style>\n",
              "<table border=\"1\" class=\"dataframe\">\n",
              "  <thead>\n",
              "    <tr style=\"text-align: right;\">\n",
              "      <th>Ticker</th>\n",
              "      <th>APA</th>\n",
              "      <th>CBOE</th>\n",
              "      <th>CL</th>\n",
              "      <th>CMS</th>\n",
              "      <th>COP</th>\n",
              "      <th>DG</th>\n",
              "      <th>DRI</th>\n",
              "      <th>EXPE</th>\n",
              "      <th>F</th>\n",
              "      <th>HAS</th>\n",
              "      <th>HCA</th>\n",
              "      <th>HSY</th>\n",
              "      <th>KLAC</th>\n",
              "      <th>MAS</th>\n",
              "      <th>MDT</th>\n",
              "      <th>SNPS</th>\n",
              "      <th>VFC</th>\n",
              "      <th>WM</th>\n",
              "      <th>WST</th>\n",
              "      <th>XOM</th>\n",
              "    </tr>\n",
              "    <tr>\n",
              "      <th>Date</th>\n",
              "      <th></th>\n",
              "      <th></th>\n",
              "      <th></th>\n",
              "      <th></th>\n",
              "      <th></th>\n",
              "      <th></th>\n",
              "      <th></th>\n",
              "      <th></th>\n",
              "      <th></th>\n",
              "      <th></th>\n",
              "      <th></th>\n",
              "      <th></th>\n",
              "      <th></th>\n",
              "      <th></th>\n",
              "      <th></th>\n",
              "      <th></th>\n",
              "      <th></th>\n",
              "      <th></th>\n",
              "      <th></th>\n",
              "      <th></th>\n",
              "    </tr>\n",
              "  </thead>\n",
              "  <tbody>\n",
              "    <tr>\n",
              "      <th>2020-01-03</th>\n",
              "      <td>0.012929</td>\n",
              "      <td>0.015030</td>\n",
              "      <td>-0.001469</td>\n",
              "      <td>0.009676</td>\n",
              "      <td>0.003660</td>\n",
              "      <td>-0.007373</td>\n",
              "      <td>0.001069</td>\n",
              "      <td>-0.016810</td>\n",
              "      <td>-0.022545</td>\n",
              "      <td>-0.002662</td>\n",
              "      <td>0.003047</td>\n",
              "      <td>0.008989</td>\n",
              "      <td>-0.019301</td>\n",
              "      <td>-0.007695</td>\n",
              "      <td>-0.005953</td>\n",
              "      <td>-0.007800</td>\n",
              "      <td>-0.006305</td>\n",
              "      <td>0.009671</td>\n",
              "      <td>0.002633</td>\n",
              "      <td>-0.008072</td>\n",
              "    </tr>\n",
              "    <tr>\n",
              "      <th>2020-01-06</th>\n",
              "      <td>-0.001949</td>\n",
              "      <td>-0.009440</td>\n",
              "      <td>0.006886</td>\n",
              "      <td>0.004484</td>\n",
              "      <td>0.011802</td>\n",
              "      <td>-0.003424</td>\n",
              "      <td>0.006563</td>\n",
              "      <td>-0.003580</td>\n",
              "      <td>-0.005444</td>\n",
              "      <td>0.002947</td>\n",
              "      <td>0.003778</td>\n",
              "      <td>-0.004761</td>\n",
              "      <td>-0.022761</td>\n",
              "      <td>-0.007754</td>\n",
              "      <td>0.008830</td>\n",
              "      <td>0.001551</td>\n",
              "      <td>-0.003924</td>\n",
              "      <td>0.005189</td>\n",
              "      <td>0.000526</td>\n",
              "      <td>0.007649</td>\n",
              "    </tr>\n",
              "    <tr>\n",
              "      <th>2020-01-07</th>\n",
              "      <td>0.237394</td>\n",
              "      <td>-0.016527</td>\n",
              "      <td>-0.013820</td>\n",
              "      <td>-0.005126</td>\n",
              "      <td>0.000000</td>\n",
              "      <td>-0.015192</td>\n",
              "      <td>-0.008612</td>\n",
              "      <td>0.011702</td>\n",
              "      <td>0.009777</td>\n",
              "      <td>-0.018875</td>\n",
              "      <td>-0.001348</td>\n",
              "      <td>0.001935</td>\n",
              "      <td>0.007909</td>\n",
              "      <td>-0.009513</td>\n",
              "      <td>-0.003488</td>\n",
              "      <td>0.006879</td>\n",
              "      <td>-0.004951</td>\n",
              "      <td>0.000690</td>\n",
              "      <td>-0.002566</td>\n",
              "      <td>-0.008218</td>\n",
              "    </tr>\n",
              "    <tr>\n",
              "      <th>2020-01-08</th>\n",
              "      <td>0.006744</td>\n",
              "      <td>-0.010288</td>\n",
              "      <td>0.025144</td>\n",
              "      <td>-0.000321</td>\n",
              "      <td>-0.023437</td>\n",
              "      <td>-0.004346</td>\n",
              "      <td>0.015044</td>\n",
              "      <td>-0.012807</td>\n",
              "      <td>0.000000</td>\n",
              "      <td>0.014976</td>\n",
              "      <td>0.006586</td>\n",
              "      <td>0.008182</td>\n",
              "      <td>0.001303</td>\n",
              "      <td>0.008039</td>\n",
              "      <td>0.017404</td>\n",
              "      <td>0.020082</td>\n",
              "      <td>-0.017164</td>\n",
              "      <td>0.000603</td>\n",
              "      <td>-0.013594</td>\n",
              "      <td>-0.015195</td>\n",
              "    </tr>\n",
              "    <tr>\n",
              "      <th>2020-01-09</th>\n",
              "      <td>-0.003980</td>\n",
              "      <td>-0.008583</td>\n",
              "      <td>0.008481</td>\n",
              "      <td>0.007681</td>\n",
              "      <td>0.017251</td>\n",
              "      <td>0.006773</td>\n",
              "      <td>0.012491</td>\n",
              "      <td>0.010441</td>\n",
              "      <td>0.001081</td>\n",
              "      <td>-0.010055</td>\n",
              "      <td>-0.012538</td>\n",
              "      <td>0.003623</td>\n",
              "      <td>-0.006701</td>\n",
              "      <td>0.002005</td>\n",
              "      <td>0.016093</td>\n",
              "      <td>0.019082</td>\n",
              "      <td>-0.013069</td>\n",
              "      <td>0.000431</td>\n",
              "      <td>0.011154</td>\n",
              "      <td>0.007627</td>\n",
              "    </tr>\n",
              "  </tbody>\n",
              "</table>\n",
              "</div>"
            ],
            "text/plain": [
              "Ticker           APA      CBOE        CL       CMS       COP        DG  \\\n",
              "Date                                                                     \n",
              "2020-01-03  0.012929  0.015030 -0.001469  0.009676  0.003660 -0.007373   \n",
              "2020-01-06 -0.001949 -0.009440  0.006886  0.004484  0.011802 -0.003424   \n",
              "2020-01-07  0.237394 -0.016527 -0.013820 -0.005126  0.000000 -0.015192   \n",
              "2020-01-08  0.006744 -0.010288  0.025144 -0.000321 -0.023437 -0.004346   \n",
              "2020-01-09 -0.003980 -0.008583  0.008481  0.007681  0.017251  0.006773   \n",
              "\n",
              "Ticker           DRI      EXPE         F       HAS       HCA       HSY  \\\n",
              "Date                                                                     \n",
              "2020-01-03  0.001069 -0.016810 -0.022545 -0.002662  0.003047  0.008989   \n",
              "2020-01-06  0.006563 -0.003580 -0.005444  0.002947  0.003778 -0.004761   \n",
              "2020-01-07 -0.008612  0.011702  0.009777 -0.018875 -0.001348  0.001935   \n",
              "2020-01-08  0.015044 -0.012807  0.000000  0.014976  0.006586  0.008182   \n",
              "2020-01-09  0.012491  0.010441  0.001081 -0.010055 -0.012538  0.003623   \n",
              "\n",
              "Ticker          KLAC       MAS       MDT      SNPS       VFC        WM  \\\n",
              "Date                                                                     \n",
              "2020-01-03 -0.019301 -0.007695 -0.005953 -0.007800 -0.006305  0.009671   \n",
              "2020-01-06 -0.022761 -0.007754  0.008830  0.001551 -0.003924  0.005189   \n",
              "2020-01-07  0.007909 -0.009513 -0.003488  0.006879 -0.004951  0.000690   \n",
              "2020-01-08  0.001303  0.008039  0.017404  0.020082 -0.017164  0.000603   \n",
              "2020-01-09 -0.006701  0.002005  0.016093  0.019082 -0.013069  0.000431   \n",
              "\n",
              "Ticker           WST       XOM  \n",
              "Date                            \n",
              "2020-01-03  0.002633 -0.008072  \n",
              "2020-01-06  0.000526  0.007649  \n",
              "2020-01-07 -0.002566 -0.008218  \n",
              "2020-01-08 -0.013594 -0.015195  \n",
              "2020-01-09  0.011154  0.007627  "
            ]
          },
          "execution_count": 7,
          "metadata": {},
          "output_type": "execute_result"
        }
      ],
      "source": [
        "retornos = np.log(precios).diff().dropna()\n",
        "retornos.head()"
      ]
    },
    {
      "cell_type": "code",
      "execution_count": 8,
      "id": "T8-_g4o0IZiv",
      "metadata": {
        "colab": {
          "base_uri": "https://localhost:8080/"
        },
        "id": "T8-_g4o0IZiv",
        "outputId": "9a8f5126-bdc8-49a9-be71-24790d898a41"
      },
      "outputs": [
        {
          "data": {
            "text/plain": [
              "(1061, 20)"
            ]
          },
          "execution_count": 8,
          "metadata": {},
          "output_type": "execute_result"
        }
      ],
      "source": [
        "retornos.shape"
      ]
    },
    {
      "cell_type": "code",
      "execution_count": 9,
      "id": "J7390hmJItYW",
      "metadata": {
        "colab": {
          "base_uri": "https://localhost:8080/"
        },
        "id": "J7390hmJItYW",
        "outputId": "949e3342-03d2-4c08-c236-67e9e2b362a2"
      },
      "outputs": [
        {
          "name": "stdout",
          "output_type": "stream",
          "text": [
            "0.24972959981918352 0.3116877495875152\n"
          ]
        }
      ],
      "source": [
        "retornos_cartera = retornos @ pesos_cartera\n",
        "rentabilidad_cartera = retornos_cartera.mean()\n",
        "riesgo_cartera = retornos_cartera.std()\n",
        "print(rentabilidad_cartera * 252, riesgo_cartera * np.sqrt(252))"
      ]
    },
    {
      "cell_type": "code",
      "execution_count": 10,
      "id": "nsBlTVoQJSc_",
      "metadata": {
        "colab": {
          "base_uri": "https://localhost:8080/"
        },
        "id": "nsBlTVoQJSc_",
        "outputId": "b2f66940-22bb-4222-a8ea-af29a389b954"
      },
      "outputs": [
        {
          "data": {
            "text/plain": [
              "20"
            ]
          },
          "execution_count": 10,
          "metadata": {},
          "output_type": "execute_result"
        }
      ],
      "source": [
        "num_activos = len(retornos.columns)\n",
        "num_activos"
      ]
    },
    {
      "cell_type": "code",
      "execution_count": 11,
      "id": "VNeTFQfwVCyX",
      "metadata": {
        "id": "VNeTFQfwVCyX"
      },
      "outputs": [],
      "source": [
        "retornos_esperados = retornos.mean().to_numpy()\n",
        "matriz_cov = retornos.cov().to_numpy()"
      ]
    },
    {
      "cell_type": "code",
      "execution_count": 12,
      "id": "b26c7314",
      "metadata": {},
      "outputs": [],
      "source": [
        "pesos = cp.Variable(num_activos)\n",
        "\n",
        "rentabilidad = retornos_esperados @ pesos\n",
        "riesgo = cp.quad_form(pesos, matriz_cov)\n",
        "\n",
        "restricciones = [cp.sum(pesos) == 1,\n",
        "                 pesos >= 0]\n",
        "\n",
        "objetivo = cp.Minimize(riesgo)\n",
        "\n",
        "problema = cp.Problem(objetivo, restricciones)\n",
        "\n",
        "resultado = problema.solve('ECOS')"
      ]
    },
    {
      "cell_type": "code",
      "execution_count": 13,
      "id": "7a08dfd6",
      "metadata": {},
      "outputs": [],
      "source": [
        "pesos_min_riesgo = pesos.value\n",
        "pesos_min_riesgo[pesos_min_riesgo <= 1e-4] = 0"
      ]
    },
    {
      "cell_type": "code",
      "execution_count": 14,
      "id": "7135c4e6",
      "metadata": {},
      "outputs": [],
      "source": [
        "retornos_cartera = retornos @ pesos_min_riesgo\n",
        "rentabilidad_min_riesgo = retornos_cartera.mean()\n",
        "riesgo_min_riesgo = retornos_cartera.std()"
      ]
    },
    {
      "cell_type": "code",
      "execution_count": 15,
      "id": "c9cb6550",
      "metadata": {},
      "outputs": [
        {
          "name": "stderr",
          "output_type": "stream",
          "text": [
            "c:\\Users\\danto\\AppData\\Local\\Programs\\Python\\Python311\\Lib\\site-packages\\cvxpy\\problems\\problem.py:1403: UserWarning: Solution may be inaccurate. Try another solver, adjusting the solver settings, or solve with verbose=True for more information.\n",
            "  warnings.warn(\n"
          ]
        }
      ],
      "source": [
        "imax = np.argmax(retornos.mean())\n",
        "max_riesgo = np.sqrt(matriz_cov[imax, imax])\n",
        "riesgos = np.linspace(riesgo_min_riesgo, max_riesgo, 200)\n",
        "rentabilidades = []\n",
        "for risk in riesgos:\n",
        "    pesos = cp.Variable(num_activos)\n",
        "\n",
        "    rent = retornos_esperados @ pesos\n",
        "    riesgo = cp.quad_form(pesos, matriz_cov)\n",
        "    \n",
        "    restricciones = [cp.sum(pesos) == 1,\n",
        "                     pesos >= 0,\n",
        "                     riesgo <= risk**2]\n",
        "\n",
        "    objetivo = cp.Maximize(rent)\n",
        "\n",
        "    problema = cp.Problem(objetivo, restricciones)\n",
        "\n",
        "    resultado = problema.solve(\"ECOS\")\n",
        "    \n",
        "    pesos = pesos.value\n",
        "    retornos_cartera = retornos @ pesos\n",
        "    rent = retornos_cartera.mean()\n",
        "    rentabilidades.append(rent)\n",
        "rentabilidades = np.array(rentabilidades)"
      ]
    },
    {
      "cell_type": "code",
      "execution_count": 16,
      "id": "HD4xWL70LYyu",
      "metadata": {
        "colab": {
          "base_uri": "https://localhost:8080/",
          "height": 447
        },
        "id": "HD4xWL70LYyu",
        "outputId": "375ecb52-07ad-4b33-80f5-fded16d0e4a7"
      },
      "outputs": [
        {
          "data": {
            "text/plain": [
              "<matplotlib.legend.Legend at 0x1a1909ce110>"
            ]
          },
          "execution_count": 16,
          "metadata": {},
          "output_type": "execute_result"
        },
        {
          "data": {
            "image/png": "[encoded data removed]",
            "text/plain": [
              "<Figure size 640x480 with 1 Axes>"
            ]
          },
          "metadata": {},
          "output_type": "display_data"
        }
      ],
      "source": [
        "plt.plot(retornos.std() * np.sqrt(252), retornos.mean() * 252, '.', label='Activos')\n",
        "plt.plot(riesgo_cartera * np.sqrt(252), rentabilidad_cartera * 252, 'x', label='Cartera Oak')\n",
        "plt.plot(riesgo_min_riesgo * np.sqrt(252), rentabilidad_min_riesgo * 252, 'x', label='Cartera Minimo Riesgo')\n",
        "plt.plot(riesgos * np.sqrt(252), rentabilidades * 252, '-', label='Frontera Eficiente')\n",
        "\n",
        "plt.legend()"
      ]
    },
    {
      "cell_type": "code",
      "execution_count": 17,
      "id": "YnlM6l50SEbl",
      "metadata": {
        "id": "YnlM6l50SEbl"
      },
      "outputs": [],
      "source": [
        "riesgo_objetivo = riesgo_cartera\n",
        "\n",
        "pesos = cp.Variable(num_activos)\n",
        "\n",
        "rentabilidad = retornos_esperados @ pesos\n",
        "riesgo = cp.quad_form(pesos, matriz_cov)\n",
        "\n",
        "restricciones = [cp.sum(pesos) == 1,\n",
        "                 pesos >= 0,\n",
        "                 riesgo <= riesgo_objetivo**2]\n",
        "\n",
        "objetivo = cp.Maximize(rentabilidad)\n",
        "\n",
        "problema = cp.Problem(objetivo, restricciones)\n",
        "\n",
        "resultado = problema.solve('ECOS')\n"
      ]
    },
    {
      "cell_type": "code",
      "execution_count": 18,
      "id": "k1CaYnydTg1t",
      "metadata": {
        "colab": {
          "base_uri": "https://localhost:8080/"
        },
        "id": "k1CaYnydTg1t",
        "outputId": "33370d1c-abe7-49f9-a8ec-99c5dae4c910"
      },
      "outputs": [
        {
          "data": {
            "text/plain": [
              "array([0.        , 0.        , 0.        , 0.        , 0.        ,\n",
              "       0.        , 0.        , 0.        , 0.        , 0.        ,\n",
              "       0.        , 0.        , 0.04388705, 0.        , 0.        ,\n",
              "       0.74462944, 0.        , 0.13435665, 0.04789814, 0.02922499])"
            ]
          },
          "execution_count": 18,
          "metadata": {},
          "output_type": "execute_result"
        }
      ],
      "source": [
        "pesos_objetivo = pesos.value\n",
        "pesos_objetivo[pesos_objetivo <= 1e-4] = 0\n",
        "pesos_objetivo"
      ]
    },
    {
      "cell_type": "code",
      "execution_count": 19,
      "id": "bsK-5EpwXdiY",
      "metadata": {
        "colab": {
          "base_uri": "https://localhost:8080/",
          "height": 318
        },
        "id": "bsK-5EpwXdiY",
        "outputId": "2e2e1572-7d39-4b67-d52f-f34914046067"
      },
      "outputs": [
        {
          "data": {
            "image/png": "[encoded data removed]",
            "text/plain": [
              "<Figure size 1000x300 with 1 Axes>"
            ]
          },
          "metadata": {},
          "output_type": "display_data"
        }
      ],
      "source": [
        "plt.figure(figsize=(10, 3))\n",
        "plt.bar(range(num_activos), pesos_objetivo)\n",
        "plt.xticks(range(num_activos), tickers, rotation=60)\n",
        "plt.show()"
      ]
    },
    {
      "cell_type": "code",
      "execution_count": 20,
      "id": "xW34ql-oUiZu",
      "metadata": {
        "id": "xW34ql-oUiZu"
      },
      "outputs": [],
      "source": [
        "retornos_cartera_recomendada = retornos @ pesos_objetivo\n",
        "rentabilidad_cartera_recomendada = retornos_cartera_recomendada.mean()\n",
        "riesgo_cartera_recomendada = retornos_cartera_recomendada.std()"
      ]
    },
    {
      "cell_type": "code",
      "execution_count": 21,
      "id": "sAh2bMw5VoLp",
      "metadata": {
        "colab": {
          "base_uri": "https://localhost:8080/",
          "height": 447
        },
        "id": "sAh2bMw5VoLp",
        "outputId": "33ab7098-15da-49bd-9e72-2d683a6c8334"
      },
      "outputs": [
        {
          "data": {
            "text/plain": [
              "<matplotlib.legend.Legend at 0x1a190a42550>"
            ]
          },
          "execution_count": 21,
          "metadata": {},
          "output_type": "execute_result"
        },
        {
          "data": {
            "image/png": "[encoded data removed]",
            "text/plain": [
              "<Figure size 640x480 with 1 Axes>"
            ]
          },
          "metadata": {},
          "output_type": "display_data"
        }
      ],
      "source": [
        "plt.plot(retornos.std() * np.sqrt(252), retornos.mean() * 252, '.', label='Activos')\n",
        "plt.plot(riesgo_cartera * np.sqrt(252), rentabilidad_cartera * 252, 'x', label='Cartera Oak')\n",
        "plt.plot(riesgo_min_riesgo * np.sqrt(252), rentabilidad_min_riesgo * 252, 'x', label='Cartera Minimo Riesgo')\n",
        "plt.plot(riesgos * np.sqrt(252), rentabilidades * 252, '-', label='Frontera Eficiente')\n",
        "plt.plot(riesgo_cartera_recomendada * np.sqrt(252), rentabilidad_cartera_recomendada * 252, '*', label='Cartera Recomendada')\n",
        "\n",
        "plt.legend()"
      ]
    },
    {
      "cell_type": "markdown",
      "id": "6aEfbtLscX6A",
      "metadata": {
        "id": "6aEfbtLscX6A"
      },
      "source": [
        "Dibujando la frontera eficiente podemos observar si la cartera de Oak está en ella (no he conseguido hacerlo). Asumiendo que no lo estaba he calculado la cartera con maxima rentabilidad para el mismo riesgo que la cartera de Oak y podemos ver que la hay. Invirtiendo tanto por ciento en cada activo, como está representado en el gráfico de barras."
      ]
    },
    {
      "cell_type": "markdown",
      "id": "8802cab4",
      "metadata": {
        "id": "8802cab4"
      },
      "source": [
        "## Ejercicio 2 [4 puntos]"
      ]
    },
    {
      "cell_type": "markdown",
      "id": "1e415265",
      "metadata": {
        "id": "1e415265"
      },
      "source": [
        "Continuando con el caso del Sr. Pikachu, si al universo de activos incluímos un activo libre de riesgo con una rentabilidad anual del 1%, ¿cambiarías tu decisión? Si la respuesta es afirmativa, proporciona los pesos, la rentabilidad y la volatilidad de tu propuesta."
      ]
    },
    {
      "cell_type": "code",
      "execution_count": 22,
      "id": "d119351d",
      "metadata": {
        "colab": {
          "base_uri": "https://localhost:8080/"
        },
        "id": "d119351d",
        "outputId": "d7a877ec-3fa3-4aa1-cd09-0e7c2f057ca5"
      },
      "outputs": [
        {
          "name": "stderr",
          "output_type": "stream",
          "text": [
            "c:\\Users\\danto\\AppData\\Local\\Programs\\Python\\Python311\\Lib\\site-packages\\cvxpy\\problems\\problem.py:1403: UserWarning: Solution may be inaccurate. Try another solver, adjusting the solver settings, or solve with verbose=True for more information.\n",
            "  warnings.warn(\n"
          ]
        }
      ],
      "source": [
        "rf = 0.01/252\n",
        "\n",
        "x = cp.Variable(num_activos)\n",
        "pesos = x / cp.sum(x)\n",
        "\n",
        "pi = retornos_esperados - rf\n",
        "\n",
        "riesgo = cp.quad_form(x, matriz_cov)\n",
        "\n",
        "restricciones = [pi @ x == 1,\n",
        "                 x >= 0]\n",
        "\n",
        "objetivo = cp.Minimize(riesgo)\n",
        "\n",
        "problema = cp.Problem(objetivo, restricciones)\n",
        "\n",
        "resultado = problema.solve('ECOS')\n"
      ]
    },
    {
      "cell_type": "code",
      "execution_count": 23,
      "id": "XjI7SBf1XGp5",
      "metadata": {
        "colab": {
          "base_uri": "https://localhost:8080/"
        },
        "id": "XjI7SBf1XGp5",
        "outputId": "0a16298c-bbd5-4abd-f780-1f5161f05cdf"
      },
      "outputs": [
        {
          "data": {
            "text/plain": [
              "array([0.        , 0.        , 0.        , 0.        , 0.        ,\n",
              "       0.        , 0.        , 0.        , 0.        , 0.        ,\n",
              "       0.        , 0.        , 0.        , 0.        , 0.        ,\n",
              "       0.47977479, 0.        , 0.33874485, 0.09722571, 0.08425086])"
            ]
          },
          "execution_count": 23,
          "metadata": {},
          "output_type": "execute_result"
        }
      ],
      "source": [
        "pesos_sharpe = pesos.value\n",
        "pesos_sharpe[pesos_sharpe <= 1e-4] = 0\n",
        "pesos_sharpe"
      ]
    },
    {
      "cell_type": "code",
      "execution_count": 24,
      "id": "UtMis_ifXZdS",
      "metadata": {
        "colab": {
          "base_uri": "https://localhost:8080/",
          "height": 318
        },
        "id": "UtMis_ifXZdS",
        "outputId": "ed9258fc-b504-471f-da42-481c20c37f96"
      },
      "outputs": [
        {
          "data": {
            "image/png": "[encoded data removed]",
            "text/plain": [
              "<Figure size 1000x300 with 1 Axes>"
            ]
          },
          "metadata": {},
          "output_type": "display_data"
        }
      ],
      "source": [
        "plt.figure(figsize=(10, 3))\n",
        "plt.bar(range(num_activos), pesos_sharpe)\n",
        "plt.xticks(range(num_activos), tickers, rotation=60)\n",
        "plt.show()"
      ]
    },
    {
      "cell_type": "code",
      "execution_count": 25,
      "id": "-RkjGWnDYJnJ",
      "metadata": {
        "id": "-RkjGWnDYJnJ"
      },
      "outputs": [],
      "source": [
        "retornos_sharpe = retornos @ pesos_sharpe\n",
        "rentabilidad_sharpe = retornos_sharpe.mean()\n",
        "riesgo_sharpe = retornos_sharpe.std()"
      ]
    },
    {
      "cell_type": "code",
      "execution_count": 26,
      "id": "8lymsHYyYYWp",
      "metadata": {
        "id": "8lymsHYyYYWp"
      },
      "outputs": [],
      "source": [
        "w = 1 - riesgo_objetivo / riesgo_sharpe\n",
        "rentabilidad_objetivo = w * rf + (1 - w) * rentabilidad_sharpe"
      ]
    },
    {
      "cell_type": "code",
      "execution_count": 27,
      "id": "v-VqxuPzZU5p",
      "metadata": {
        "colab": {
          "base_uri": "https://localhost:8080/",
          "height": 447
        },
        "id": "v-VqxuPzZU5p",
        "outputId": "57f65280-ecd6-4636-f863-8c044da896e5"
      },
      "outputs": [
        {
          "data": {
            "text/plain": [
              "<matplotlib.legend.Legend at 0x1a191bfa550>"
            ]
          },
          "execution_count": 27,
          "metadata": {},
          "output_type": "execute_result"
        },
        {
          "data": {
            "image/png": "[encoded data removed]",
            "text/plain": [
              "<Figure size 640x480 with 1 Axes>"
            ]
          },
          "metadata": {},
          "output_type": "display_data"
        }
      ],
      "source": [
        "plt.plot(retornos.std() * np.sqrt(252), retornos.mean() * 252, '.', label='Activos')\n",
        "plt.plot(riesgo_cartera * np.sqrt(252), rentabilidad_cartera * 252, 'x', label='Cartera Oak')\n",
        "plt.plot(riesgo_min_riesgo * np.sqrt(252), rentabilidad_min_riesgo * 252, 'x', label='Cartera Minimo Riesgo')\n",
        "plt.plot(riesgos * np.sqrt(252), rentabilidades * 252, '-', label='Frontera Eficiente')\n",
        "plt.plot(riesgo_cartera_recomendada * np.sqrt(252), rentabilidad_cartera_recomendada * 252, '*', label='Cartera Recomendada')\n",
        "\n",
        "plt.plot(0, rf * 252, 'x', label='Activo Libre de Riesgo')\n",
        "plt.plot(riesgo_sharpe * np.sqrt(252), rentabilidad_sharpe * 252, '*', label='Cartera Sharpe')\n",
        "plt.plot(riesgo_objetivo * np.sqrt(252), rentabilidad_objetivo * 252, 'x', label='Cartera Objetivo')\n",
        "plt.plot([0, riesgo_objetivo*np.sqrt(252)], [rf*252, rentabilidad_objetivo*252], '--', alpha=0.5)\n",
        "plt.axvline(riesgo_cartera * np.sqrt(252), alpha=0.1)\n",
        "\n",
        "plt.legend()"
      ]
    },
    {
      "cell_type": "markdown",
      "id": "bxZs35SkdCQw",
      "metadata": {
        "id": "bxZs35SkdCQw"
      },
      "source": [
        "La cartera formada con el activo libre de riesgo y la que maximiza el ratio de Sharpe tiene una rentabilidad mayor que la recomendada anteriormente para un mismo nivel de riesgo, por lo que la ideal sería esta última."
      ]
    },
    {
      "cell_type": "markdown",
      "id": "a4edb31f",
      "metadata": {
        "id": "a4edb31f"
      },
      "source": [
        "## Ejercicio 3 [2 puntos]"
      ]
    },
    {
      "cell_type": "markdown",
      "id": "5d0c94c6",
      "metadata": {
        "id": "5d0c94c6"
      },
      "source": [
        "Redacta un folleto resumido en la que se le proporcione al Sr. Pikachu información sobre la cartera propuesta."
      ]
    },
    {
      "cell_type": "code",
      "execution_count": 28,
      "id": "c0c34132",
      "metadata": {
        "colab": {
          "base_uri": "https://localhost:8080/"
        },
        "id": "c0c34132",
        "outputId": "acc0a596-0992-4400-c6af-823c446a78e6"
      },
      "outputs": [
        {
          "name": "stdout",
          "output_type": "stream",
          "text": [
            "En conclusión, la mejor cartera para un riesgo de 31.17% se consigue apalancándote un 25.46% del dinero en el activo libre de riesgo e invirtiendo 125.46% en la cartera que maximiza el ratio de Sharpe. Da una rentabilidad del 31.84%.\n"
          ]
        }
      ],
      "source": [
        "print(f'En conclusión, la mejor cartera para un riesgo de {round(riesgo_objetivo * np.sqrt(252) * 100,2)}% se consigue apalancándote un {-round(w * 100,2)}% del dinero en el activo libre de riesgo e invirtiendo {round((1-w)*100,2)}% en la cartera que maximiza el ratio de Sharpe. Da una rentabilidad del {round(rentabilidad_objetivo * 252 * 100,2)}%.')"
      ]
    },
    {
      "cell_type": "code",
      "execution_count": 32,
      "id": "d3edfc8e",
      "metadata": {},
      "outputs": [
        {
          "name": "stdout",
          "output_type": "stream",
          "text": [
            "En conclusión, la mejor cartera para un riesgo de 31.17% se consigue apalancándote un 25.46% del dine\n",
            "ro en el activo libre de riesgo e invirtiendo 125.46% en la cartera que maximiza el ratio de Sharpe. \n",
            "Da una rentabilidad del 31.84%.\n"
          ]
        }
      ],
      "source": [
        "def imprimir_con_saltos(texto, longitud_linea):\n",
        "    for i in range(0, len(texto), longitud_linea):\n",
        "        print(texto[i:i+longitud_linea])\n",
        "\n",
        "texto_largo = f'En conclusión, la mejor cartera para un riesgo de {round(riesgo_objetivo * np.sqrt(252) * 100,2)}% se consigue apalancándote un {-round(w * 100,2)}% del dinero en el activo libre de riesgo e invirtiendo {round((1-w)*100,2)}% en la cartera que maximiza el ratio de Sharpe. Da una rentabilidad del {round(rentabilidad_objetivo * 252 * 100,2)}%.'\n",
        "imprimir_con_saltos(texto_largo, 101)"
      ]
    },
    {
      "cell_type": "code",
      "execution_count": null,
      "id": "8ad12eb1",
      "metadata": {},
      "outputs": [],
      "source": []
    }
  ],
  "metadata": {
    "colab": {
      "provenance": []
    },
    "kernelspec": {
      "display_name": "Python 3 (ipykernel)",
      "language": "python",
      "name": "python3"
    },
    "language_info": {
      "codemirror_mode": {
        "name": "ipython",
        "version": 3
      },
      "file_extension": ".py",
      "mimetype": "text/x-python",
      "name": "python",
      "nbconvert_exporter": "python",
      "pygments_lexer": "ipython3",
      "version": "3.11.1"
    }
  },
  "nbformat": 4,
  "nbformat_minor": 5
}
